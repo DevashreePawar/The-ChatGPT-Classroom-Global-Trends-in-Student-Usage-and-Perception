{
 "cells": [
  {
   "cell_type": "markdown",
   "id": "0b8fa699",
   "metadata": {},
   "source": [
    "### AUTHOR: DEVASHREE KIRAN PAWAR\n",
    "#### DATE: JUNE 19, 2025"
   ]
  },
  {
   "cell_type": "code",
   "execution_count": 1,
   "id": "cdeb8cec",
   "metadata": {},
   "outputs": [
    {
     "name": "stdout",
     "output_type": "stream",
     "text": [
      "Requirement already satisfied: openpyxl in /Library/Frameworks/Python.framework/Versions/3.13/lib/python3.13/site-packages (3.1.5)\n",
      "Requirement already satisfied: et-xmlfile in /Library/Frameworks/Python.framework/Versions/3.13/lib/python3.13/site-packages (from openpyxl) (2.0.0)\n",
      "\n",
      "\u001b[1m[\u001b[0m\u001b[34;49mnotice\u001b[0m\u001b[1;39;49m]\u001b[0m\u001b[39;49m A new release of pip is available: \u001b[0m\u001b[31;49m25.0.1\u001b[0m\u001b[39;49m -> \u001b[0m\u001b[32;49m25.1.1\u001b[0m\n",
      "\u001b[1m[\u001b[0m\u001b[34;49mnotice\u001b[0m\u001b[1;39;49m]\u001b[0m\u001b[39;49m To update, run: \u001b[0m\u001b[32;49mpip3 install --upgrade pip\u001b[0m\n",
      "Note: you may need to restart the kernel to use updated packages.\n"
     ]
    }
   ],
   "source": [
    "%pip install openpyxl"
   ]
  },
  {
   "cell_type": "markdown",
   "id": "4449a8e4",
   "metadata": {},
   "source": [
    "#### Loading required libraries"
   ]
  },
  {
   "cell_type": "code",
   "execution_count": 2,
   "id": "9f02a770",
   "metadata": {},
   "outputs": [],
   "source": [
    "# Load required libraries\n",
    "import pandas as pd\n",
    "import numpy as np\n",
    "import matplotlib as plt\n",
    "import seaborn as sns"
   ]
  },
  {
   "cell_type": "markdown",
   "id": "75588cc7",
   "metadata": {},
   "source": [
    "#### Data loading"
   ]
  },
  {
   "cell_type": "code",
   "execution_count": 3,
   "id": "57402103",
   "metadata": {},
   "outputs": [
    {
     "name": "stdout",
     "output_type": "stream",
     "text": [
      "<class 'pandas.core.frame.DataFrame'>\n",
      "RangeIndex: 23218 entries, 0 to 23217\n",
      "Columns: 174 entries, Q1 to source\n",
      "dtypes: float64(170), object(4)\n",
      "memory usage: 30.8+ MB\n",
      "            Q1   Q2     Q3               Q4  \\\n",
      "0  Afghanistan  2.0   27.0      Afghanistan   \n",
      "1  Afghanistan  4.0  100.0      Afghanistan   \n",
      "2  Afghanistan  1.0   21.0          Albania   \n",
      "3  Afghanistan  1.0   18.0          Ecuador   \n",
      "4  Afghanistan  2.0   26.0            Spain   \n",
      "5  Afghanistan  4.0   43.0  The Netherlands   \n",
      "6  Afghanistan  2.0   21.0           Turkey   \n",
      "7  Afghanistan  2.0   21.0           Turkey   \n",
      "8  Afghanistan  2.0   22.0           Turkey   \n",
      "9  Afghanistan  2.0   23.0           Turkey   \n",
      "\n",
      "                                                  Q5   Q6   Q7   Q8   Q9  Q10  \\\n",
      "0                                     القدس المفتوحة  1.0  1.0  1.0  1.0  1.0   \n",
      "1                                                456  2.0  2.0  3.0  2.0  4.0   \n",
      "2                                               منيا  1.0  1.0  1.0  1.0  1.0   \n",
      "3  Universidad Indoamerica., Facultad Arquitectur...  2.0  1.0  1.0  1.0  4.0   \n",
      "4                                De vigo universidad  1.0  2.0  2.0  1.0  2.0   \n",
      "5                                                NaN  1.0  1.0  2.0  2.0  2.0   \n",
      "6                            Cumhuriyet Üniversitesi  1.0  1.0  1.0  2.0  2.0   \n",
      "7                            Cumhuriyet üniversitesi  1.0  1.0  1.0  2.0  1.0   \n",
      "8      Sivas cumhuriyet üniversite ,Eğitim Fakültesi  1.0  1.0  1.0  1.0  3.0   \n",
      "9      Sivas cumhuriyet üniversite, Eğitim fakültesi  1.0  1.0  1.0  1.0  1.0   \n",
      "\n",
      "   ...  Q40g  Q40h  Q40i  Q40j  Q40k  Q40l  Q40m  Q40n  Q40o  source  \n",
      "0  ...   NaN   NaN   NaN   NaN   NaN   NaN   NaN   NaN   NaN      AR  \n",
      "1  ...   NaN   NaN   NaN   NaN   NaN   NaN   NaN   NaN   NaN      EN  \n",
      "2  ...   3.0   2.0   3.0   4.0   3.0   2.0   2.0   1.0   1.0      EN  \n",
      "3  ...   3.0   3.0   3.0   3.0   3.0   3.0   3.0   3.0   3.0      ES  \n",
      "4  ...   4.0   3.0   4.0   3.0   3.0   3.0   4.0   3.0   4.0      ES  \n",
      "5  ...   NaN   NaN   NaN   NaN   NaN   NaN   NaN   NaN   NaN      EN  \n",
      "6  ...   2.0   4.0   4.0   4.0   4.0   4.0   3.0   3.0   3.0      TR  \n",
      "7  ...   4.0   4.0   4.0   4.0   4.0   4.0   4.0   2.0   4.0      TR  \n",
      "8  ...   NaN   NaN   NaN   NaN   NaN   NaN   NaN   NaN   NaN      TR  \n",
      "9  ...   3.0   3.0   3.0   3.0   3.0   3.0   3.0   3.0   3.0      TR  \n",
      "\n",
      "[10 rows x 174 columns]\n"
     ]
    }
   ],
   "source": [
    "df =  pd.read_excel('Data/final dataset.xlsx')\n",
    "df.info()\n",
    "print(df.head(10))"
   ]
  },
  {
   "cell_type": "markdown",
   "id": "a95d8c7a",
   "metadata": {},
   "source": [
    "#### Data Cleaning and Preprocessing"
   ]
  },
  {
   "cell_type": "code",
   "execution_count": null,
   "id": "9332f980",
   "metadata": {},
   "outputs": [
    {
     "name": "stdout",
     "output_type": "stream",
     "text": [
      "Q1        1487\n",
      "Q2         168\n",
      "Q3         212\n",
      "Q4         301\n",
      "Q5         639\n",
      "          ... \n",
      "Q40l      5441\n",
      "Q40m      5444\n",
      "Q40n      5434\n",
      "Q40o      5423\n",
      "source       0\n",
      "Length: 174, dtype: int64\n"
     ]
    }
   ],
   "source": [
    "# Missing values\n",
    "print(df.isnull().sum())\n",
    "\n",
    "# Handle missing values - numerical columns\n",
    "\n"
   ]
  }
 ],
 "metadata": {
  "kernelspec": {
   "display_name": "Python 3",
   "language": "python",
   "name": "python3"
  },
  "language_info": {
   "codemirror_mode": {
    "name": "ipython",
    "version": 3
   },
   "file_extension": ".py",
   "mimetype": "text/x-python",
   "name": "python",
   "nbconvert_exporter": "python",
   "pygments_lexer": "ipython3",
   "version": "3.13.3"
  }
 },
 "nbformat": 4,
 "nbformat_minor": 5
}
